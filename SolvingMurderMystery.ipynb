{
 "cells": [
  {
   "cell_type": "markdown",
   "metadata": {},
   "source": [
    "## `Actividades preliminares`"
   ]
  },
  {
   "cell_type": "markdown",
   "metadata": {},
   "source": [
    "Comenzamos importando la libreria de pandas"
   ]
  },
  {
   "cell_type": "code",
   "execution_count": 1,
   "metadata": {},
   "outputs": [],
   "source": [
    "import pandas as pd"
   ]
  },
  {
   "cell_type": "markdown",
   "metadata": {},
   "source": [
    "Cargamos el dataset que utilizaran durante la investigacion"
   ]
  },
  {
   "cell_type": "code",
   "execution_count": 2,
   "metadata": {},
   "outputs": [],
   "source": [
    "crime_scene_report     = pd.read_csv(\"./_src/datasets/Crime Scene report.csv\")\n",
    "drivers_license        = pd.read_csv(\"./_src/datasets/Drivers license.csv\")\n",
    "facebook_event_checkin = pd.read_csv(\"./_src/datasets/facebook_event_checkin.csv\")\n",
    "getfitnow_checkin      = pd.read_csv(\"./_src/datasets/GetFitNow check in.csv\")\n",
    "getfitnow_members      = pd.read_csv(\"./_src/datasets/GetFitNow members.csv\")\n",
    "income                 = pd.read_csv(\"./_src/datasets/income.csv\")\n",
    "interview              = pd.read_csv(\"./_src/datasets/Interviews.csv\")\n",
    "person                 = pd.read_csv(\"./_src/datasets/Person.csv\")"
   ]
  },
  {
   "cell_type": "markdown",
   "metadata": {},
   "source": [
    "Veamos un poco como estan conformados estos dataframes"
   ]
  },
  {
   "cell_type": "code",
   "execution_count": 3,
   "metadata": {},
   "outputs": [
    {
     "name": "stdout",
     "output_type": "stream",
     "text": [
      "<class 'pandas.core.frame.DataFrame'>\n",
      "RangeIndex: 1228 entries, 0 to 1227\n",
      "Data columns (total 4 columns):\n",
      " #   Column       Non-Null Count  Dtype \n",
      "---  ------       --------------  ----- \n",
      " 0   Date         1228 non-null   object\n",
      " 1   Type         1228 non-null   object\n",
      " 2   Description  939 non-null    object\n",
      " 3   City         1228 non-null   object\n",
      "dtypes: object(4)\n",
      "memory usage: 38.5+ KB\n"
     ]
    }
   ],
   "source": [
    "# Usamos .info() para ver una descripcion general del dataset, como sus tipos de datos en cada columna y si presenta nulos\n",
    "crime_scene_report.info()\n",
    "#Podes cambiar el dataset para ver la informacion general del que quieras"
   ]
  },
  {
   "cell_type": "code",
   "execution_count": 4,
   "metadata": {},
   "outputs": [
    {
     "data": {
      "text/html": [
       "<div>\n",
       "<style scoped>\n",
       "    .dataframe tbody tr th:only-of-type {\n",
       "        vertical-align: middle;\n",
       "    }\n",
       "\n",
       "    .dataframe tbody tr th {\n",
       "        vertical-align: top;\n",
       "    }\n",
       "\n",
       "    .dataframe thead th {\n",
       "        text-align: right;\n",
       "    }\n",
       "</style>\n",
       "<table border=\"1\" class=\"dataframe\">\n",
       "  <thead>\n",
       "    <tr style=\"text-align: right;\">\n",
       "      <th></th>\n",
       "      <th>Date</th>\n",
       "      <th>Type</th>\n",
       "      <th>Description</th>\n",
       "      <th>City</th>\n",
       "    </tr>\n",
       "  </thead>\n",
       "  <tbody>\n",
       "    <tr>\n",
       "      <th>0</th>\n",
       "      <td>2017-01-07</td>\n",
       "      <td>smuggling</td>\n",
       "      <td>NaN</td>\n",
       "      <td>Savannah</td>\n",
       "    </tr>\n",
       "    <tr>\n",
       "      <th>1</th>\n",
       "      <td>2017-01-11</td>\n",
       "      <td>murder</td>\n",
       "      <td>NaN</td>\n",
       "      <td>Springdale</td>\n",
       "    </tr>\n",
       "    <tr>\n",
       "      <th>2</th>\n",
       "      <td>2017-01-12</td>\n",
       "      <td>smuggling</td>\n",
       "      <td>NaN</td>\n",
       "      <td>Melbourne</td>\n",
       "    </tr>\n",
       "  </tbody>\n",
       "</table>\n",
       "</div>"
      ],
      "text/plain": [
       "         Date       Type Description        City\n",
       "0  2017-01-07  smuggling         NaN    Savannah\n",
       "1  2017-01-11     murder         NaN  Springdale\n",
       "2  2017-01-12  smuggling         NaN   Melbourne"
      ]
     },
     "execution_count": 4,
     "metadata": {},
     "output_type": "execute_result"
    }
   ],
   "source": [
    "crime_scene_report.head(3)"
   ]
  },
  {
   "cell_type": "code",
   "execution_count": 6,
   "metadata": {},
   "outputs": [
    {
     "data": {
      "text/html": [
       "<div>\n",
       "<style scoped>\n",
       "    .dataframe tbody tr th:only-of-type {\n",
       "        vertical-align: middle;\n",
       "    }\n",
       "\n",
       "    .dataframe tbody tr th {\n",
       "        vertical-align: top;\n",
       "    }\n",
       "\n",
       "    .dataframe thead th {\n",
       "        text-align: right;\n",
       "    }\n",
       "</style>\n",
       "<table border=\"1\" class=\"dataframe\">\n",
       "  <thead>\n",
       "    <tr style=\"text-align: right;\">\n",
       "      <th></th>\n",
       "      <th>Date</th>\n",
       "      <th>Type</th>\n",
       "      <th>Description</th>\n",
       "      <th>City</th>\n",
       "    </tr>\n",
       "  </thead>\n",
       "  <tbody>\n",
       "    <tr>\n",
       "      <th>0</th>\n",
       "      <td>2017-01-07</td>\n",
       "      <td>smuggling</td>\n",
       "      <td>NaN</td>\n",
       "      <td>Savannah</td>\n",
       "    </tr>\n",
       "    <tr>\n",
       "      <th>1</th>\n",
       "      <td>2017-01-11</td>\n",
       "      <td>murder</td>\n",
       "      <td>NaN</td>\n",
       "      <td>Springdale</td>\n",
       "    </tr>\n",
       "    <tr>\n",
       "      <th>2</th>\n",
       "      <td>2017-01-12</td>\n",
       "      <td>smuggling</td>\n",
       "      <td>NaN</td>\n",
       "      <td>Melbourne</td>\n",
       "    </tr>\n",
       "    <tr>\n",
       "      <th>3</th>\n",
       "      <td>2017-01-13</td>\n",
       "      <td>assault</td>\n",
       "      <td>NaN</td>\n",
       "      <td>Reading</td>\n",
       "    </tr>\n",
       "    <tr>\n",
       "      <th>4</th>\n",
       "      <td>2017-01-14</td>\n",
       "      <td>blackmail</td>\n",
       "      <td>NaN</td>\n",
       "      <td>Orange</td>\n",
       "    </tr>\n",
       "    <tr>\n",
       "      <th>...</th>\n",
       "      <td>...</td>\n",
       "      <td>...</td>\n",
       "      <td>...</td>\n",
       "      <td>...</td>\n",
       "    </tr>\n",
       "    <tr>\n",
       "      <th>1223</th>\n",
       "      <td>2018-04-10</td>\n",
       "      <td>arson</td>\n",
       "      <td>its head impatiently, and walked a little quic...</td>\n",
       "      <td>Santa Ana</td>\n",
       "    </tr>\n",
       "    <tr>\n",
       "      <th>1224</th>\n",
       "      <td>2018-04-14</td>\n",
       "      <td>arson</td>\n",
       "      <td>go down the chimney!’</td>\n",
       "      <td>San Jose</td>\n",
       "    </tr>\n",
       "    <tr>\n",
       "      <th>1225</th>\n",
       "      <td>2018-04-17</td>\n",
       "      <td>arson</td>\n",
       "      <td>Alice, she went on, ‘What’s your name, child?’</td>\n",
       "      <td>Clarke County</td>\n",
       "    </tr>\n",
       "    <tr>\n",
       "      <th>1226</th>\n",
       "      <td>2018-04-25</td>\n",
       "      <td>arson</td>\n",
       "      <td>simply--“Never imagine yourself not to be othe...</td>\n",
       "      <td>Louisville</td>\n",
       "    </tr>\n",
       "    <tr>\n",
       "      <th>1227</th>\n",
       "      <td>2018-04-28</td>\n",
       "      <td>arson</td>\n",
       "      <td>remained some time after the rest of it had gone.</td>\n",
       "      <td>Denton</td>\n",
       "    </tr>\n",
       "  </tbody>\n",
       "</table>\n",
       "<p>1228 rows × 4 columns</p>\n",
       "</div>"
      ],
      "text/plain": [
       "            Date       Type  \\\n",
       "0     2017-01-07  smuggling   \n",
       "1     2017-01-11     murder   \n",
       "2     2017-01-12  smuggling   \n",
       "3     2017-01-13    assault   \n",
       "4     2017-01-14  blackmail   \n",
       "...          ...        ...   \n",
       "1223  2018-04-10      arson   \n",
       "1224  2018-04-14      arson   \n",
       "1225  2018-04-17      arson   \n",
       "1226  2018-04-25      arson   \n",
       "1227  2018-04-28      arson   \n",
       "\n",
       "                                            Description           City  \n",
       "0                                                   NaN       Savannah  \n",
       "1                                                   NaN     Springdale  \n",
       "2                                                   NaN      Melbourne  \n",
       "3                                                   NaN        Reading  \n",
       "4                                                   NaN         Orange  \n",
       "...                                                 ...            ...  \n",
       "1223  its head impatiently, and walked a little quic...      Santa Ana  \n",
       "1224                              go down the chimney!’       San Jose  \n",
       "1225     Alice, she went on, ‘What’s your name, child?’  Clarke County  \n",
       "1226  simply--“Never imagine yourself not to be othe...     Louisville  \n",
       "1227  remained some time after the rest of it had gone.         Denton  \n",
       "\n",
       "[1228 rows x 4 columns]"
      ]
     },
     "execution_count": 6,
     "metadata": {},
     "output_type": "execute_result"
    }
   ],
   "source": [
    "crime_scene_report"
   ]
  },
  {
   "cell_type": "markdown",
   "metadata": {},
   "source": [
    "## `Comenzamos la investigacion`"
   ]
  },
  {
   "cell_type": "markdown",
   "metadata": {},
   "source": [
    "### Un crimen ha ocurrido y el detective necesita tu ayuda. \n"
   ]
  },
  {
   "cell_type": "markdown",
   "metadata": {},
   "source": [
    "#### Pero antes, veamos un diagrama de esquema para ver como estan conectados todos los dataframes\n",
    "\n",
    "<img src=\"./_src/schemeboard.png\">\n",
    "\n",
    "\n",
    "### Te entregaron el informe del lugar del crimen, pero de alguna manera lo perdiste. Recordas vagamente que el crimen fue un ​asesinato​ que ocurrió en algún momento el ​15 de enero de 2018​ y que tuvo lugar en ​Pandas City​. **Te recomiendo comenzar por recuperar el informe correspondiente de su respectivo dataframe**"
   ]
  },
  {
   "cell_type": "code",
   "execution_count": 17,
   "metadata": {},
   "outputs": [
    {
     "data": {
      "text/html": [
       "<div>\n",
       "<style scoped>\n",
       "    .dataframe tbody tr th:only-of-type {\n",
       "        vertical-align: middle;\n",
       "    }\n",
       "\n",
       "    .dataframe tbody tr th {\n",
       "        vertical-align: top;\n",
       "    }\n",
       "\n",
       "    .dataframe thead th {\n",
       "        text-align: right;\n",
       "    }\n",
       "</style>\n",
       "<table border=\"1\" class=\"dataframe\">\n",
       "  <thead>\n",
       "    <tr style=\"text-align: right;\">\n",
       "      <th></th>\n",
       "      <th>Date</th>\n",
       "      <th>Type</th>\n",
       "      <th>Description</th>\n",
       "      <th>City</th>\n",
       "    </tr>\n",
       "  </thead>\n",
       "  <tbody>\n",
       "    <tr>\n",
       "      <th>781</th>\n",
       "      <td>2018-01-15</td>\n",
       "      <td>murder</td>\n",
       "      <td>Security footage shows that there were 2 witne...</td>\n",
       "      <td>Pandas City</td>\n",
       "    </tr>\n",
       "  </tbody>\n",
       "</table>\n",
       "</div>"
      ],
      "text/plain": [
       "           Date    Type                                        Description  \\\n",
       "781  2018-01-15  murder  Security footage shows that there were 2 witne...   \n",
       "\n",
       "            City  \n",
       "781  Pandas City  "
      ]
     },
     "execution_count": 17,
     "metadata": {},
     "output_type": "execute_result"
    }
   ],
   "source": [
    "crimen = crime_scene_report[(crime_scene_report['Date']== '2018-01-15') &\n",
    "                            (crime_scene_report['Type']== 'murder') & \n",
    "                            (crime_scene_report['City']== 'Pandas City')]\n",
    "crimen\n"
   ]
  },
  {
   "cell_type": "code",
   "execution_count": null,
   "metadata": {},
   "outputs": [],
   "source": []
  },
  {
   "cell_type": "markdown",
   "metadata": {},
   "source": [
    "## Si creen que encontraron al asesino, ejecuten el siguiente codigo con el posible sospechoso\n",
    "\n",
    " Por favor, tene en cuenta que es recomendable no acceder al archivo \"asesino.py\" para evitar revelar detalles importantes de la caso. Si deseas disfrutar plenamente de la experiencia sin spoilers, te sugiero que evites examinar dicho archivo.\""
   ]
  },
  {
   "cell_type": "code",
   "execution_count": null,
   "metadata": {},
   "outputs": [],
   "source": [
    "from asesino import solucion\n",
    "solucion(\"Colocar aca el nombre del sospechoso\")"
   ]
  }
 ],
 "metadata": {
  "kernelspec": {
   "display_name": "Python 3",
   "language": "python",
   "name": "python3"
  },
  "language_info": {
   "codemirror_mode": {
    "name": "ipython",
    "version": 3
   },
   "file_extension": ".py",
   "mimetype": "text/x-python",
   "name": "python",
   "nbconvert_exporter": "python",
   "pygments_lexer": "ipython3",
   "version": "3.11.4"
  },
  "orig_nbformat": 4
 },
 "nbformat": 4,
 "nbformat_minor": 2
}
