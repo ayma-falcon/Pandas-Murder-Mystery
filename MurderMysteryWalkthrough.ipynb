{
 "cells": [
  {
   "cell_type": "markdown",
   "metadata": {},
   "source": [
    "## Este es el paso a paso para principiantes"
   ]
  },
  {
   "cell_type": "markdown",
   "metadata": {},
   "source": [
    "Comenzamos importando la libreria de pandas"
   ]
  },
  {
   "cell_type": "code",
   "execution_count": 2,
   "metadata": {},
   "outputs": [],
   "source": [
    "import pandas as pd\n",
    "pd.set_option('display.max_colwidth', None) #Esto es para poder ver todo el texto en una columna"
   ]
  },
  {
   "cell_type": "markdown",
   "metadata": {},
   "source": [
    "Cargamos el dataset que utilizaremos durante la investigacion"
   ]
  },
  {
   "cell_type": "code",
   "execution_count": 3,
   "metadata": {},
   "outputs": [],
   "source": [
    "crime_scene_report     = pd.read_csv(\"./_src/datasets/Crime Scene report.csv\")\n",
    "drivers_license        = pd.read_csv(\"./_src/datasets/Drivers license.csv\")\n",
    "facebook_event_checkin = pd.read_csv(\"./_src/datasets/facebook_event_checkin.csv\")\n",
    "getfitnow_checkin      = pd.read_csv(\"./_src/datasets/GetFitNow check in.csv\")\n",
    "getfitnow_members      = pd.read_csv(\"./_src/datasets/GetFitNow members.csv\")\n",
    "income                 = pd.read_csv(\"./_src/datasets/income.csv\")\n",
    "interview              = pd.read_csv(\"./_src/datasets/Interviews.csv\")\n",
    "person                 = pd.read_csv(\"./_src/datasets/Person.csv\")"
   ]
  },
  {
   "cell_type": "markdown",
   "metadata": {},
   "source": [
    "Veamos un poco como estan conformados estos dataframes"
   ]
  },
  {
   "cell_type": "code",
   "execution_count": 4,
   "metadata": {},
   "outputs": [
    {
     "name": "stdout",
     "output_type": "stream",
     "text": [
      "<class 'pandas.core.frame.DataFrame'>\n",
      "RangeIndex: 1228 entries, 0 to 1227\n",
      "Data columns (total 4 columns):\n",
      " #   Column       Non-Null Count  Dtype \n",
      "---  ------       --------------  ----- \n",
      " 0   Date         1228 non-null   object\n",
      " 1   Type         1228 non-null   object\n",
      " 2   Description  939 non-null    object\n",
      " 3   City         1228 non-null   object\n",
      "dtypes: object(4)\n",
      "memory usage: 38.5+ KB\n"
     ]
    }
   ],
   "source": [
    "# Usamos .info() para ver una descripcion general del dataset, como sus tipos de datos en cada columna y si presenta nulos\n",
    "crime_scene_report.info()"
   ]
  },
  {
   "cell_type": "markdown",
   "metadata": {},
   "source": [
    "Con la funcion *.head*(n:int default=5) podemos visualizar las primeras n filas "
   ]
  },
  {
   "cell_type": "code",
   "execution_count": 5,
   "metadata": {},
   "outputs": [
    {
     "data": {
      "text/html": [
       "<div>\n",
       "<style scoped>\n",
       "    .dataframe tbody tr th:only-of-type {\n",
       "        vertical-align: middle;\n",
       "    }\n",
       "\n",
       "    .dataframe tbody tr th {\n",
       "        vertical-align: top;\n",
       "    }\n",
       "\n",
       "    .dataframe thead th {\n",
       "        text-align: right;\n",
       "    }\n",
       "</style>\n",
       "<table border=\"1\" class=\"dataframe\">\n",
       "  <thead>\n",
       "    <tr style=\"text-align: right;\">\n",
       "      <th></th>\n",
       "      <th>Date</th>\n",
       "      <th>Type</th>\n",
       "      <th>Description</th>\n",
       "      <th>City</th>\n",
       "    </tr>\n",
       "  </thead>\n",
       "  <tbody>\n",
       "    <tr>\n",
       "      <th>0</th>\n",
       "      <td>2017-01-07</td>\n",
       "      <td>smuggling</td>\n",
       "      <td>NaN</td>\n",
       "      <td>Savannah</td>\n",
       "    </tr>\n",
       "    <tr>\n",
       "      <th>1</th>\n",
       "      <td>2017-01-11</td>\n",
       "      <td>murder</td>\n",
       "      <td>NaN</td>\n",
       "      <td>Springdale</td>\n",
       "    </tr>\n",
       "    <tr>\n",
       "      <th>2</th>\n",
       "      <td>2017-01-12</td>\n",
       "      <td>smuggling</td>\n",
       "      <td>NaN</td>\n",
       "      <td>Melbourne</td>\n",
       "    </tr>\n",
       "  </tbody>\n",
       "</table>\n",
       "</div>"
      ],
      "text/plain": [
       "         Date       Type Description        City\n",
       "0  2017-01-07  smuggling         NaN    Savannah\n",
       "1  2017-01-11     murder         NaN  Springdale\n",
       "2  2017-01-12  smuggling         NaN   Melbourne"
      ]
     },
     "execution_count": 5,
     "metadata": {},
     "output_type": "execute_result"
    }
   ],
   "source": [
    "crime_scene_report.head(3)"
   ]
  },
  {
   "cell_type": "markdown",
   "metadata": {},
   "source": [
    "Algunas funciones **utiles** que podrian ayudarte en el proceso:\n",
    "1. **_`.sort_values()`_**: Esta función se utiliza para ordenar un DataFrame o una Serie según los valores de una o más columnas. Se puede especificar el orden ascendente o descendente. Es útil para organizar los datos de manera coherente y facilitar la búsqueda o el análisis de patrones.\n",
    "\n",
    "2. **_`.str.contains()`_**: Esta función se utiliza para buscar patrones de texto en una Serie. Permite verificar si una cadena de caracteres contiene un patrón específico. Es útil para realizar filtrados basados en patrones de texto, como buscar palabras clave en un conjunto de datos.\n",
    "\n",
    "3. **_`.groupby()`_**: Esta función se utiliza para agrupar los datos según una o más columnas en un DataFrame. Se puede combinar con otras funciones de agregación, como _`.sum()`_, _`.mean()`_, _`.count()`_, etc., para realizar cálculos en los grupos resultantes. Es útil para realizar análisis estadísticos o resúmenes de datos basados en categorías.\n",
    "\n",
    "4. **_`.merge()`_**: Esta función se utiliza para combinar dos DataFrames en función de una o más columnas comunes. Puede realizar una unión interna (inner join), una unión externa (outer join), una unión izquierda (left join) o una unión derecha (right join), según los datos que se deseen mantener. Es útil para combinar conjuntos de datos relacionados en un solo DataFrame para su análisis\n",
    "\n",
    "5. **_`.isin()`_**: Esta función se utiliza para verificar si los valores de una columna o Serie están presentes en una lista de valores específica."
   ]
  },
  {
   "cell_type": "markdown",
   "metadata": {},
   "source": [
    "## `Comenzamos la investigacion`"
   ]
  },
  {
   "cell_type": "markdown",
   "metadata": {},
   "source": [
    "### Un crimen ha ocurrido y el detective necesita tu ayuda. \n"
   ]
  },
  {
   "cell_type": "markdown",
   "metadata": {},
   "source": [
    "#### Pero antes, veamos un diagrama de esquema para ver como estan conectados todos los dataframes\n",
    "\n",
    "<img src=\"./_src/schemeboard.png\">"
   ]
  },
  {
   "cell_type": "markdown",
   "metadata": {},
   "source": [
    "\n",
    "### Te entregaron el informe del lugar del crimen, pero de alguna manera lo perdiste. Recordas vagamente que el crimen fue un ​asesinato​ que ocurrió en algún momento el ​15 de enero de 2018​ y que tuvo lugar en ​Pandas City​. **Te recomiendo comenzar por recuperar el informe correspondiente de su respectivo dataframe**"
   ]
  },
  {
   "cell_type": "markdown",
   "metadata": {},
   "source": [
    "Vamos a empezar viendo los asesinatos (_murder_) que ocurrieron en la fecha 2018-01-15 (_15 de enero de 2018_) en el dataset `crime_scene_report`"
   ]
  },
  {
   "cell_type": "code",
   "execution_count": 13,
   "metadata": {},
   "outputs": [
    {
     "data": {
      "text/html": [
       "<div>\n",
       "<style scoped>\n",
       "    .dataframe tbody tr th:only-of-type {\n",
       "        vertical-align: middle;\n",
       "    }\n",
       "\n",
       "    .dataframe tbody tr th {\n",
       "        vertical-align: top;\n",
       "    }\n",
       "\n",
       "    .dataframe thead th {\n",
       "        text-align: right;\n",
       "    }\n",
       "</style>\n",
       "<table border=\"1\" class=\"dataframe\">\n",
       "  <thead>\n",
       "    <tr style=\"text-align: right;\">\n",
       "      <th></th>\n",
       "      <th>Date</th>\n",
       "      <th>Type</th>\n",
       "      <th>Description</th>\n",
       "      <th>City</th>\n",
       "    </tr>\n",
       "  </thead>\n",
       "  <tbody>\n",
       "    <tr>\n",
       "      <th>674</th>\n",
       "      <td>2018-01-15</td>\n",
       "      <td>murder</td>\n",
       "      <td>Life? Dont talk to me about life.</td>\n",
       "      <td>Albany</td>\n",
       "    </tr>\n",
       "    <tr>\n",
       "      <th>675</th>\n",
       "      <td>2018-01-15</td>\n",
       "      <td>murder</td>\n",
       "      <td>Mama, I killed a man, put a gun against his head...</td>\n",
       "      <td>Reno</td>\n",
       "    </tr>\n",
       "    <tr>\n",
       "      <th>781</th>\n",
       "      <td>2018-01-15</td>\n",
       "      <td>murder</td>\n",
       "      <td>Security footage shows that there were 2 witnesses. The first witness lives at the last house on \"Northwestern Dr\". The second witness, named Annabel, lives somewhere on \"Franklin Ave\".</td>\n",
       "      <td>Pandas City</td>\n",
       "    </tr>\n",
       "  </tbody>\n",
       "</table>\n",
       "</div>"
      ],
      "text/plain": [
       "           Date    Type  \\\n",
       "674  2018-01-15  murder   \n",
       "675  2018-01-15  murder   \n",
       "781  2018-01-15  murder   \n",
       "\n",
       "                                                                                                                                                                                   Description  \\\n",
       "674                                                                                                                                                          Life? Dont talk to me about life.   \n",
       "675                                                                                                                                        Mama, I killed a man, put a gun against his head...   \n",
       "781  Security footage shows that there were 2 witnesses. The first witness lives at the last house on \"Northwestern Dr\". The second witness, named Annabel, lives somewhere on \"Franklin Ave\".   \n",
       "\n",
       "            City  \n",
       "674       Albany  \n",
       "675         Reno  \n",
       "781  Pandas City  "
      ]
     },
     "execution_count": 13,
     "metadata": {},
     "output_type": "execute_result"
    }
   ],
   "source": [
    "# Hay varias maneras de seleccionar una fila en especifico. Una de ellas es la siguiente:\n",
    "informe = crime_scene_report[(crime_scene_report[\"Date\"] == \"2018-01-15\") & \n",
    "                            (crime_scene_report[\"Type\"] == \"murder\")]\n",
    "informe"
   ]
  },
  {
   "cell_type": "markdown",
   "metadata": {},
   "source": [
    "Podemos ver que ocurrieron 3 asesinatos en la misma fecha pero en distintas ciudades, ¿se te ocurre alguna manera de modificar el codigo tal que aparezca solamente la que nos interesa para el caso?"
   ]
  },
  {
   "cell_type": "code",
   "execution_count": 26,
   "metadata": {},
   "outputs": [
    {
     "data": {
      "text/html": [
       "<div>\n",
       "<style scoped>\n",
       "    .dataframe tbody tr th:only-of-type {\n",
       "        vertical-align: middle;\n",
       "    }\n",
       "\n",
       "    .dataframe tbody tr th {\n",
       "        vertical-align: top;\n",
       "    }\n",
       "\n",
       "    .dataframe thead th {\n",
       "        text-align: right;\n",
       "    }\n",
       "</style>\n",
       "<table border=\"1\" class=\"dataframe\">\n",
       "  <thead>\n",
       "    <tr style=\"text-align: right;\">\n",
       "      <th></th>\n",
       "      <th>Date</th>\n",
       "      <th>Type</th>\n",
       "      <th>Description</th>\n",
       "      <th>City</th>\n",
       "    </tr>\n",
       "  </thead>\n",
       "  <tbody>\n",
       "    <tr>\n",
       "      <th>781</th>\n",
       "      <td>2018-01-15</td>\n",
       "      <td>murder</td>\n",
       "      <td>Security footage shows that there were 2 witnesses. The first witness lives at the last house on \"Northwestern Dr\". The second witness, named Annabel, lives somewhere on \"Franklin Ave\".</td>\n",
       "      <td>Pandas City</td>\n",
       "    </tr>\n",
       "  </tbody>\n",
       "</table>\n",
       "</div>"
      ],
      "text/plain": [
       "           Date    Type  \\\n",
       "781  2018-01-15  murder   \n",
       "\n",
       "                                                                                                                                                                                   Description  \\\n",
       "781  Security footage shows that there were 2 witnesses. The first witness lives at the last house on \"Northwestern Dr\". The second witness, named Annabel, lives somewhere on \"Franklin Ave\".   \n",
       "\n",
       "            City  \n",
       "781  Pandas City  "
      ]
     },
     "execution_count": 26,
     "metadata": {},
     "output_type": "execute_result"
    }
   ],
   "source": [
    "caso = informe[(informe[\"City\"] == \"Pandas City\")]\n",
    "caso"
   ]
  },
  {
   "cell_type": "markdown",
   "metadata": {},
   "source": [
    "Una vez que tenemos el informe, leemos que dice la descripcion y vemos que hay 2 testigos. Es tu turno de hacer un codigo de tal manera que puedas encontrar a uno o ambos de ellos\n",
    "\n",
    "_Ayudita:_ usar el dataset `person` y la funcion _df`.str.contains() `_"
   ]
  },
  {
   "cell_type": "code",
   "execution_count": 22,
   "metadata": {},
   "outputs": [
    {
     "data": {
      "text/html": [
       "<div>\n",
       "<style scoped>\n",
       "    .dataframe tbody tr th:only-of-type {\n",
       "        vertical-align: middle;\n",
       "    }\n",
       "\n",
       "    .dataframe tbody tr th {\n",
       "        vertical-align: top;\n",
       "    }\n",
       "\n",
       "    .dataframe thead th {\n",
       "        text-align: right;\n",
       "    }\n",
       "</style>\n",
       "<table border=\"1\" class=\"dataframe\">\n",
       "  <thead>\n",
       "    <tr style=\"text-align: right;\">\n",
       "      <th></th>\n",
       "      <th>Id</th>\n",
       "      <th>Name</th>\n",
       "      <th>License_Id</th>\n",
       "      <th>Address_Number</th>\n",
       "      <th>Address_Street_Name</th>\n",
       "      <th>Ssn</th>\n",
       "    </tr>\n",
       "  </thead>\n",
       "  <tbody>\n",
       "    <tr>\n",
       "      <th>0</th>\n",
       "      <td>10000</td>\n",
       "      <td>Christoper Peteuil</td>\n",
       "      <td>993845</td>\n",
       "      <td>624</td>\n",
       "      <td>Bankhall Ave</td>\n",
       "      <td>747714076</td>\n",
       "    </tr>\n",
       "    <tr>\n",
       "      <th>1</th>\n",
       "      <td>10007</td>\n",
       "      <td>Kourtney Calderwood</td>\n",
       "      <td>861794</td>\n",
       "      <td>2791</td>\n",
       "      <td>Gustavus Blvd</td>\n",
       "      <td>477972044</td>\n",
       "    </tr>\n",
       "    <tr>\n",
       "      <th>2</th>\n",
       "      <td>10010</td>\n",
       "      <td>Muoi Cary</td>\n",
       "      <td>385336</td>\n",
       "      <td>741</td>\n",
       "      <td>Northwestern Dr</td>\n",
       "      <td>828638512</td>\n",
       "    </tr>\n",
       "    <tr>\n",
       "      <th>3</th>\n",
       "      <td>10016</td>\n",
       "      <td>Era Moselle</td>\n",
       "      <td>431897</td>\n",
       "      <td>1987</td>\n",
       "      <td>Wood Glade St</td>\n",
       "      <td>614621061</td>\n",
       "    </tr>\n",
       "    <tr>\n",
       "      <th>4</th>\n",
       "      <td>10025</td>\n",
       "      <td>Trena Hornby</td>\n",
       "      <td>550890</td>\n",
       "      <td>276</td>\n",
       "      <td>Daws Hill Way</td>\n",
       "      <td>223877684</td>\n",
       "    </tr>\n",
       "  </tbody>\n",
       "</table>\n",
       "</div>"
      ],
      "text/plain": [
       "      Id                 Name  License_Id  Address_Number Address_Street_Name  \\\n",
       "0  10000   Christoper Peteuil      993845             624        Bankhall Ave   \n",
       "1  10007  Kourtney Calderwood      861794            2791       Gustavus Blvd   \n",
       "2  10010            Muoi Cary      385336             741     Northwestern Dr   \n",
       "3  10016          Era Moselle      431897            1987       Wood Glade St   \n",
       "4  10025         Trena Hornby      550890             276       Daws Hill Way   \n",
       "\n",
       "         Ssn  \n",
       "0  747714076  \n",
       "1  477972044  \n",
       "2  828638512  \n",
       "3  614621061  \n",
       "4  223877684  "
      ]
     },
     "execution_count": 22,
     "metadata": {},
     "output_type": "execute_result"
    }
   ],
   "source": [
    "person.head()"
   ]
  },
  {
   "cell_type": "code",
   "execution_count": 39,
   "metadata": {},
   "outputs": [],
   "source": [
    "info_annabel = person.loc[(person['Name'].str.contains('Annabel', case=False)) &\n",
    "                          (person['Address_Street_Name'] == 'Franklin Ave')]\n",
    "info_otro_testigo = person[(person['Address_Street_Name'] == 'Northwestern Dr')].sort_values('Address_Number', ascending=False)"
   ]
  },
  {
   "cell_type": "code",
   "execution_count": 40,
   "metadata": {},
   "outputs": [
    {
     "data": {
      "text/html": [
       "<div>\n",
       "<style scoped>\n",
       "    .dataframe tbody tr th:only-of-type {\n",
       "        vertical-align: middle;\n",
       "    }\n",
       "\n",
       "    .dataframe tbody tr th {\n",
       "        vertical-align: top;\n",
       "    }\n",
       "\n",
       "    .dataframe thead th {\n",
       "        text-align: right;\n",
       "    }\n",
       "</style>\n",
       "<table border=\"1\" class=\"dataframe\">\n",
       "  <thead>\n",
       "    <tr style=\"text-align: right;\">\n",
       "      <th></th>\n",
       "      <th>Id</th>\n",
       "      <th>Name</th>\n",
       "      <th>License_Id</th>\n",
       "      <th>Address_Number</th>\n",
       "      <th>Address_Street_Name</th>\n",
       "      <th>Ssn</th>\n",
       "    </tr>\n",
       "  </thead>\n",
       "  <tbody>\n",
       "    <tr>\n",
       "      <th>665</th>\n",
       "      <td>16371</td>\n",
       "      <td>Annabel Miller</td>\n",
       "      <td>490173</td>\n",
       "      <td>103</td>\n",
       "      <td>Franklin Ave</td>\n",
       "      <td>318771143</td>\n",
       "    </tr>\n",
       "  </tbody>\n",
       "</table>\n",
       "</div>"
      ],
      "text/plain": [
       "        Id            Name  License_Id  Address_Number Address_Street_Name  \\\n",
       "665  16371  Annabel Miller      490173             103        Franklin Ave   \n",
       "\n",
       "           Ssn  \n",
       "665  318771143  "
      ]
     },
     "execution_count": 40,
     "metadata": {},
     "output_type": "execute_result"
    }
   ],
   "source": [
    "info_annabel"
   ]
  },
  {
   "cell_type": "code",
   "execution_count": 60,
   "metadata": {},
   "outputs": [
    {
     "data": {
      "text/html": [
       "<div>\n",
       "<style scoped>\n",
       "    .dataframe tbody tr th:only-of-type {\n",
       "        vertical-align: middle;\n",
       "    }\n",
       "\n",
       "    .dataframe tbody tr th {\n",
       "        vertical-align: top;\n",
       "    }\n",
       "\n",
       "    .dataframe thead th {\n",
       "        text-align: right;\n",
       "    }\n",
       "</style>\n",
       "<table border=\"1\" class=\"dataframe\">\n",
       "  <thead>\n",
       "    <tr style=\"text-align: right;\">\n",
       "      <th></th>\n",
       "      <th>Id</th>\n",
       "      <th>Name</th>\n",
       "      <th>License_Id</th>\n",
       "      <th>Address_Number</th>\n",
       "      <th>Address_Street_Name</th>\n",
       "      <th>Ssn</th>\n",
       "    </tr>\n",
       "  </thead>\n",
       "  <tbody>\n",
       "    <tr>\n",
       "      <th>499</th>\n",
       "      <td>14887</td>\n",
       "      <td>Morty Schapiro</td>\n",
       "      <td>118009</td>\n",
       "      <td>4919</td>\n",
       "      <td>Northwestern Dr</td>\n",
       "      <td>111564949</td>\n",
       "    </tr>\n",
       "  </tbody>\n",
       "</table>\n",
       "</div>"
      ],
      "text/plain": [
       "        Id            Name  License_Id  Address_Number Address_Street_Name  \\\n",
       "499  14887  Morty Schapiro      118009            4919     Northwestern Dr   \n",
       "\n",
       "           Ssn  \n",
       "499  111564949  "
      ]
     },
     "execution_count": 60,
     "metadata": {},
     "output_type": "execute_result"
    }
   ],
   "source": [
    "otro_testigo = info_otro_testigo.head(1)\n",
    "otro_testigo"
   ]
  },
  {
   "cell_type": "code",
   "execution_count": 64,
   "metadata": {},
   "outputs": [],
   "source": [
    "testigos = pd.concat([info_annabel, otro_testigo])"
   ]
  },
  {
   "cell_type": "markdown",
   "metadata": {},
   "source": [
    "Una vez que encontraste a los testigos en la base de datos de personas, te recomiendo que busques sus entrevistas en el dataset `interviews`\n",
    "\n",
    "A partir de aca, te dejo el resto de la investigacion a vos. ***¡Muchos exitos detective!***"
   ]
  },
  {
   "cell_type": "code",
   "execution_count": 48,
   "metadata": {},
   "outputs": [
    {
     "data": {
      "text/html": [
       "<div>\n",
       "<style scoped>\n",
       "    .dataframe tbody tr th:only-of-type {\n",
       "        vertical-align: middle;\n",
       "    }\n",
       "\n",
       "    .dataframe tbody tr th {\n",
       "        vertical-align: top;\n",
       "    }\n",
       "\n",
       "    .dataframe thead th {\n",
       "        text-align: right;\n",
       "    }\n",
       "</style>\n",
       "<table border=\"1\" class=\"dataframe\">\n",
       "  <thead>\n",
       "    <tr style=\"text-align: right;\">\n",
       "      <th></th>\n",
       "      <th>Person_Id</th>\n",
       "      <th>Transcript</th>\n",
       "    </tr>\n",
       "  </thead>\n",
       "  <tbody>\n",
       "    <tr>\n",
       "      <th>0</th>\n",
       "      <td>63713</td>\n",
       "      <td>NaN</td>\n",
       "    </tr>\n",
       "    <tr>\n",
       "      <th>1</th>\n",
       "      <td>33856</td>\n",
       "      <td>NaN</td>\n",
       "    </tr>\n",
       "    <tr>\n",
       "      <th>2</th>\n",
       "      <td>82799</td>\n",
       "      <td>NaN</td>\n",
       "    </tr>\n",
       "    <tr>\n",
       "      <th>3</th>\n",
       "      <td>54206</td>\n",
       "      <td>NaN</td>\n",
       "    </tr>\n",
       "    <tr>\n",
       "      <th>4</th>\n",
       "      <td>34615</td>\n",
       "      <td>NaN</td>\n",
       "    </tr>\n",
       "  </tbody>\n",
       "</table>\n",
       "</div>"
      ],
      "text/plain": [
       "   Person_Id Transcript\n",
       "0      63713        NaN\n",
       "1      33856        NaN\n",
       "2      82799        NaN\n",
       "3      54206        NaN\n",
       "4      34615        NaN"
      ]
     },
     "execution_count": 48,
     "metadata": {},
     "output_type": "execute_result"
    }
   ],
   "source": [
    "interview.head()"
   ]
  },
  {
   "cell_type": "code",
   "execution_count": 65,
   "metadata": {},
   "outputs": [
    {
     "data": {
      "text/html": [
       "<div>\n",
       "<style scoped>\n",
       "    .dataframe tbody tr th:only-of-type {\n",
       "        vertical-align: middle;\n",
       "    }\n",
       "\n",
       "    .dataframe tbody tr th {\n",
       "        vertical-align: top;\n",
       "    }\n",
       "\n",
       "    .dataframe thead th {\n",
       "        text-align: right;\n",
       "    }\n",
       "</style>\n",
       "<table border=\"1\" class=\"dataframe\">\n",
       "  <thead>\n",
       "    <tr style=\"text-align: right;\">\n",
       "      <th></th>\n",
       "      <th>Person_Id</th>\n",
       "      <th>Transcript</th>\n",
       "    </tr>\n",
       "  </thead>\n",
       "  <tbody>\n",
       "    <tr>\n",
       "      <th>4988</th>\n",
       "      <td>14887</td>\n",
       "      <td>I heard a gunshot and then saw a man run out. He had a \"Get Fit Now Gym\" bag. The membership number on the bag started with \"48Z\". Only gold members have those bags. The man got into a car with a plate that included \"H42W\".</td>\n",
       "    </tr>\n",
       "    <tr>\n",
       "      <th>4989</th>\n",
       "      <td>16371</td>\n",
       "      <td>I saw the murder happen, and I recognized the killer from my gym when I was working out last week on January the 9th.</td>\n",
       "    </tr>\n",
       "  </tbody>\n",
       "</table>\n",
       "</div>"
      ],
      "text/plain": [
       "      Person_Id  \\\n",
       "4988      14887   \n",
       "4989      16371   \n",
       "\n",
       "                                                                                                                                                                                                                           Transcript  \n",
       "4988  I heard a gunshot and then saw a man run out. He had a \"Get Fit Now Gym\" bag. The membership number on the bag started with \"48Z\". Only gold members have those bags. The man got into a car with a plate that included \"H42W\".  \n",
       "4989                                                                                                            I saw the murder happen, and I recognized the killer from my gym when I was working out last week on January the 9th.  "
      ]
     },
     "execution_count": 65,
     "metadata": {},
     "output_type": "execute_result"
    }
   ],
   "source": [
    "id_entrevistas = testigos['Id'].to_list()\n",
    "entrevista_annabel = interview.loc[interview[\"Person_Id\"].isin(id_entrevistas)]\n",
    "entrevista_annabel"
   ]
  },
  {
   "cell_type": "code",
   "execution_count": 72,
   "metadata": {},
   "outputs": [
    {
     "data": {
      "text/html": [
       "<div>\n",
       "<style scoped>\n",
       "    .dataframe tbody tr th:only-of-type {\n",
       "        vertical-align: middle;\n",
       "    }\n",
       "\n",
       "    .dataframe tbody tr th {\n",
       "        vertical-align: top;\n",
       "    }\n",
       "\n",
       "    .dataframe thead th {\n",
       "        text-align: right;\n",
       "    }\n",
       "</style>\n",
       "<table border=\"1\" class=\"dataframe\">\n",
       "  <thead>\n",
       "    <tr style=\"text-align: right;\">\n",
       "      <th></th>\n",
       "      <th>Membership_Id</th>\n",
       "      <th>Check_In_Date</th>\n",
       "      <th>Check_In_Time</th>\n",
       "      <th>Check_Out_Time</th>\n",
       "    </tr>\n",
       "  </thead>\n",
       "  <tbody>\n",
       "    <tr>\n",
       "      <th>0</th>\n",
       "      <td>NL318</td>\n",
       "      <td>2018-02-12</td>\n",
       "      <td>329</td>\n",
       "      <td>365</td>\n",
       "    </tr>\n",
       "    <tr>\n",
       "      <th>1</th>\n",
       "      <td>NL318</td>\n",
       "      <td>2017-08-11</td>\n",
       "      <td>469</td>\n",
       "      <td>920</td>\n",
       "    </tr>\n",
       "  </tbody>\n",
       "</table>\n",
       "</div>"
      ],
      "text/plain": [
       "  Membership_Id Check_In_Date  Check_In_Time  Check_Out_Time\n",
       "0         NL318    2018-02-12            329             365\n",
       "1         NL318    2017-08-11            469             920"
      ]
     },
     "execution_count": 72,
     "metadata": {},
     "output_type": "execute_result"
    }
   ],
   "source": [
    "getfitnow_checkin.head(2)"
   ]
  },
  {
   "cell_type": "code",
   "execution_count": 78,
   "metadata": {},
   "outputs": [
    {
     "data": {
      "text/html": [
       "<div>\n",
       "<style scoped>\n",
       "    .dataframe tbody tr th:only-of-type {\n",
       "        vertical-align: middle;\n",
       "    }\n",
       "\n",
       "    .dataframe tbody tr th {\n",
       "        vertical-align: top;\n",
       "    }\n",
       "\n",
       "    .dataframe thead th {\n",
       "        text-align: right;\n",
       "    }\n",
       "</style>\n",
       "<table border=\"1\" class=\"dataframe\">\n",
       "  <thead>\n",
       "    <tr style=\"text-align: right;\">\n",
       "      <th></th>\n",
       "      <th>Membership_Id</th>\n",
       "      <th>Check_In_Date</th>\n",
       "      <th>Check_In_Time</th>\n",
       "      <th>Check_Out_Time</th>\n",
       "    </tr>\n",
       "  </thead>\n",
       "  <tbody>\n",
       "    <tr>\n",
       "      <th>2700</th>\n",
       "      <td>48Z7A</td>\n",
       "      <td>2018-01-09</td>\n",
       "      <td>1600</td>\n",
       "      <td>1730</td>\n",
       "    </tr>\n",
       "    <tr>\n",
       "      <th>2701</th>\n",
       "      <td>48Z55</td>\n",
       "      <td>2018-01-09</td>\n",
       "      <td>1530</td>\n",
       "      <td>1700</td>\n",
       "    </tr>\n",
       "  </tbody>\n",
       "</table>\n",
       "</div>"
      ],
      "text/plain": [
       "     Membership_Id Check_In_Date  Check_In_Time  Check_Out_Time\n",
       "2700         48Z7A    2018-01-09           1600            1730\n",
       "2701         48Z55    2018-01-09           1530            1700"
      ]
     },
     "execution_count": 78,
     "metadata": {},
     "output_type": "execute_result"
    }
   ],
   "source": [
    "personas_gym_9enero = getfitnow_checkin[(getfitnow_checkin['Check_In_Date'] == '2018-01-09') &\n",
    "                                        (getfitnow_checkin['Membership_Id'].str.contains('48Z', case=False))]\n",
    "personas_gym_9enero"
   ]
  },
  {
   "cell_type": "code",
   "execution_count": 73,
   "metadata": {},
   "outputs": [
    {
     "data": {
      "text/html": [
       "<div>\n",
       "<style scoped>\n",
       "    .dataframe tbody tr th:only-of-type {\n",
       "        vertical-align: middle;\n",
       "    }\n",
       "\n",
       "    .dataframe tbody tr th {\n",
       "        vertical-align: top;\n",
       "    }\n",
       "\n",
       "    .dataframe thead th {\n",
       "        text-align: right;\n",
       "    }\n",
       "</style>\n",
       "<table border=\"1\" class=\"dataframe\">\n",
       "  <thead>\n",
       "    <tr style=\"text-align: right;\">\n",
       "      <th></th>\n",
       "      <th>Id</th>\n",
       "      <th>Age</th>\n",
       "      <th>Height</th>\n",
       "      <th>Eye_Color</th>\n",
       "      <th>Hair_Color</th>\n",
       "      <th>Gender</th>\n",
       "      <th>Plate_Number</th>\n",
       "      <th>Car_Make</th>\n",
       "      <th>Car_Model</th>\n",
       "    </tr>\n",
       "  </thead>\n",
       "  <tbody>\n",
       "    <tr>\n",
       "      <th>0</th>\n",
       "      <td>103138</td>\n",
       "      <td>37</td>\n",
       "      <td>65</td>\n",
       "      <td>brown</td>\n",
       "      <td>Blonde</td>\n",
       "      <td>Male</td>\n",
       "      <td>T6TV0T</td>\n",
       "      <td>Ford</td>\n",
       "      <td>Focus</td>\n",
       "    </tr>\n",
       "    <tr>\n",
       "      <th>1</th>\n",
       "      <td>103260</td>\n",
       "      <td>22</td>\n",
       "      <td>59</td>\n",
       "      <td>brown</td>\n",
       "      <td>Blonde</td>\n",
       "      <td>Female</td>\n",
       "      <td>G67F83</td>\n",
       "      <td>Ford</td>\n",
       "      <td>E250</td>\n",
       "    </tr>\n",
       "  </tbody>\n",
       "</table>\n",
       "</div>"
      ],
      "text/plain": [
       "       Id  Age  Height Eye_Color Hair_Color  Gender Plate_Number Car_Make  \\\n",
       "0  103138   37      65     brown     Blonde    Male       T6TV0T     Ford   \n",
       "1  103260   22      59     brown     Blonde  Female       G67F83     Ford   \n",
       "\n",
       "  Car_Model  \n",
       "0     Focus  \n",
       "1      E250  "
      ]
     },
     "execution_count": 73,
     "metadata": {},
     "output_type": "execute_result"
    }
   ],
   "source": [
    "drivers_license.head(2)"
   ]
  },
  {
   "cell_type": "code",
   "execution_count": 74,
   "metadata": {},
   "outputs": [
    {
     "data": {
      "text/html": [
       "<div>\n",
       "<style scoped>\n",
       "    .dataframe tbody tr th:only-of-type {\n",
       "        vertical-align: middle;\n",
       "    }\n",
       "\n",
       "    .dataframe tbody tr th {\n",
       "        vertical-align: top;\n",
       "    }\n",
       "\n",
       "    .dataframe thead th {\n",
       "        text-align: right;\n",
       "    }\n",
       "</style>\n",
       "<table border=\"1\" class=\"dataframe\">\n",
       "  <thead>\n",
       "    <tr style=\"text-align: right;\">\n",
       "      <th></th>\n",
       "      <th>Id</th>\n",
       "      <th>Age</th>\n",
       "      <th>Height</th>\n",
       "      <th>Eye_Color</th>\n",
       "      <th>Hair_Color</th>\n",
       "      <th>Gender</th>\n",
       "      <th>Plate_Number</th>\n",
       "      <th>Car_Make</th>\n",
       "      <th>Car_Model</th>\n",
       "    </tr>\n",
       "  </thead>\n",
       "  <tbody>\n",
       "    <tr>\n",
       "      <th>204</th>\n",
       "      <td>423327</td>\n",
       "      <td>30</td>\n",
       "      <td>70</td>\n",
       "      <td>brown</td>\n",
       "      <td>Brown</td>\n",
       "      <td>Male</td>\n",
       "      <td>0H42W2</td>\n",
       "      <td>Chevrolet</td>\n",
       "      <td>Spark LS</td>\n",
       "    </tr>\n",
       "    <tr>\n",
       "      <th>2195</th>\n",
       "      <td>183779</td>\n",
       "      <td>21</td>\n",
       "      <td>65</td>\n",
       "      <td>blue</td>\n",
       "      <td>Blonde</td>\n",
       "      <td>Female</td>\n",
       "      <td>H42W0X</td>\n",
       "      <td>Toyota</td>\n",
       "      <td>Prius</td>\n",
       "    </tr>\n",
       "    <tr>\n",
       "      <th>5693</th>\n",
       "      <td>664760</td>\n",
       "      <td>21</td>\n",
       "      <td>71</td>\n",
       "      <td>black</td>\n",
       "      <td>Black</td>\n",
       "      <td>Male</td>\n",
       "      <td>4H42WR</td>\n",
       "      <td>Nissan</td>\n",
       "      <td>Altima</td>\n",
       "    </tr>\n",
       "  </tbody>\n",
       "</table>\n",
       "</div>"
      ],
      "text/plain": [
       "          Id  Age  Height Eye_Color Hair_Color  Gender Plate_Number  \\\n",
       "204   423327   30      70     brown      Brown    Male       0H42W2   \n",
       "2195  183779   21      65      blue     Blonde  Female       H42W0X   \n",
       "5693  664760   21      71     black      Black    Male       4H42WR   \n",
       "\n",
       "       Car_Make Car_Model  \n",
       "204   Chevrolet  Spark LS  \n",
       "2195     Toyota     Prius  \n",
       "5693     Nissan    Altima  "
      ]
     },
     "execution_count": 74,
     "metadata": {},
     "output_type": "execute_result"
    }
   ],
   "source": [
    "dueño_licencia = drivers_license[(drivers_license['Plate_Number'].str.contains('H42W', case=False))]\n",
    "dueño_licencia"
   ]
  },
  {
   "cell_type": "code",
   "execution_count": 71,
   "metadata": {},
   "outputs": [
    {
     "data": {
      "text/html": [
       "<div>\n",
       "<style scoped>\n",
       "    .dataframe tbody tr th:only-of-type {\n",
       "        vertical-align: middle;\n",
       "    }\n",
       "\n",
       "    .dataframe tbody tr th {\n",
       "        vertical-align: top;\n",
       "    }\n",
       "\n",
       "    .dataframe thead th {\n",
       "        text-align: right;\n",
       "    }\n",
       "</style>\n",
       "<table border=\"1\" class=\"dataframe\">\n",
       "  <thead>\n",
       "    <tr style=\"text-align: right;\">\n",
       "      <th></th>\n",
       "      <th>Id</th>\n",
       "      <th>Person_Id</th>\n",
       "      <th>Name</th>\n",
       "      <th>Membership_Start_Date</th>\n",
       "      <th>Membership_Status</th>\n",
       "    </tr>\n",
       "  </thead>\n",
       "  <tbody>\n",
       "    <tr>\n",
       "      <th>0</th>\n",
       "      <td>NL318</td>\n",
       "      <td>65076</td>\n",
       "      <td>Everette Koepke</td>\n",
       "      <td>2017-09-26</td>\n",
       "      <td>Gold</td>\n",
       "    </tr>\n",
       "    <tr>\n",
       "      <th>1</th>\n",
       "      <td>0YJ24</td>\n",
       "      <td>80651</td>\n",
       "      <td>Waneta Wellard</td>\n",
       "      <td>2017-12-06</td>\n",
       "      <td>Gold</td>\n",
       "    </tr>\n",
       "  </tbody>\n",
       "</table>\n",
       "</div>"
      ],
      "text/plain": [
       "      Id  Person_Id             Name Membership_Start_Date Membership_Status\n",
       "0  NL318      65076  Everette Koepke            2017-09-26              Gold\n",
       "1  0YJ24      80651   Waneta Wellard            2017-12-06              Gold"
      ]
     },
     "execution_count": 71,
     "metadata": {},
     "output_type": "execute_result"
    }
   ],
   "source": [
    "getfitnow_members.head(2)"
   ]
  },
  {
   "cell_type": "code",
   "execution_count": 84,
   "metadata": {},
   "outputs": [
    {
     "data": {
      "text/html": [
       "<div>\n",
       "<style scoped>\n",
       "    .dataframe tbody tr th:only-of-type {\n",
       "        vertical-align: middle;\n",
       "    }\n",
       "\n",
       "    .dataframe tbody tr th {\n",
       "        vertical-align: top;\n",
       "    }\n",
       "\n",
       "    .dataframe thead th {\n",
       "        text-align: right;\n",
       "    }\n",
       "</style>\n",
       "<table border=\"1\" class=\"dataframe\">\n",
       "  <thead>\n",
       "    <tr style=\"text-align: right;\">\n",
       "      <th></th>\n",
       "      <th>Id</th>\n",
       "      <th>Person_Id</th>\n",
       "      <th>Name</th>\n",
       "      <th>Membership_Start_Date</th>\n",
       "      <th>Membership_Status</th>\n",
       "    </tr>\n",
       "  </thead>\n",
       "  <tbody>\n",
       "    <tr>\n",
       "      <th>65</th>\n",
       "      <td>48Z7A</td>\n",
       "      <td>28819</td>\n",
       "      <td>Joe Germuska</td>\n",
       "      <td>2016-03-05</td>\n",
       "      <td>Gold</td>\n",
       "    </tr>\n",
       "    <tr>\n",
       "      <th>66</th>\n",
       "      <td>48Z55</td>\n",
       "      <td>67318</td>\n",
       "      <td>Jeremy Bowers</td>\n",
       "      <td>2016-01-01</td>\n",
       "      <td>Gold</td>\n",
       "    </tr>\n",
       "  </tbody>\n",
       "</table>\n",
       "</div>"
      ],
      "text/plain": [
       "       Id  Person_Id           Name Membership_Start_Date Membership_Status\n",
       "65  48Z7A      28819   Joe Germuska            2016-03-05              Gold\n",
       "66  48Z55      67318  Jeremy Bowers            2016-01-01              Gold"
      ]
     },
     "execution_count": 84,
     "metadata": {},
     "output_type": "execute_result"
    }
   ],
   "source": [
    "id_personas = personas_gym_9enero['Membership_Id'].to_list()\n",
    "id_sospechosos = getfitnow_members[getfitnow_members['Id'].isin(id_personas)]\n",
    "id_sospechosos"
   ]
  },
  {
   "cell_type": "code",
   "execution_count": 85,
   "metadata": {},
   "outputs": [
    {
     "data": {
      "text/html": [
       "<div>\n",
       "<style scoped>\n",
       "    .dataframe tbody tr th:only-of-type {\n",
       "        vertical-align: middle;\n",
       "    }\n",
       "\n",
       "    .dataframe tbody tr th {\n",
       "        vertical-align: top;\n",
       "    }\n",
       "\n",
       "    .dataframe thead th {\n",
       "        text-align: right;\n",
       "    }\n",
       "</style>\n",
       "<table border=\"1\" class=\"dataframe\">\n",
       "  <thead>\n",
       "    <tr style=\"text-align: right;\">\n",
       "      <th></th>\n",
       "      <th>Id</th>\n",
       "      <th>Name</th>\n",
       "      <th>License_Id</th>\n",
       "      <th>Address_Number</th>\n",
       "      <th>Address_Street_Name</th>\n",
       "      <th>Ssn</th>\n",
       "    </tr>\n",
       "  </thead>\n",
       "  <tbody>\n",
       "    <tr>\n",
       "      <th>0</th>\n",
       "      <td>10000</td>\n",
       "      <td>Christoper Peteuil</td>\n",
       "      <td>993845</td>\n",
       "      <td>624</td>\n",
       "      <td>Bankhall Ave</td>\n",
       "      <td>747714076</td>\n",
       "    </tr>\n",
       "  </tbody>\n",
       "</table>\n",
       "</div>"
      ],
      "text/plain": [
       "      Id                Name  License_Id  Address_Number Address_Street_Name  \\\n",
       "0  10000  Christoper Peteuil      993845             624        Bankhall Ave   \n",
       "\n",
       "         Ssn  \n",
       "0  747714076  "
      ]
     },
     "execution_count": 85,
     "metadata": {},
     "output_type": "execute_result"
    }
   ],
   "source": [
    "person.head(1)"
   ]
  },
  {
   "cell_type": "code",
   "execution_count": 89,
   "metadata": {},
   "outputs": [
    {
     "data": {
      "text/html": [
       "<div>\n",
       "<style scoped>\n",
       "    .dataframe tbody tr th:only-of-type {\n",
       "        vertical-align: middle;\n",
       "    }\n",
       "\n",
       "    .dataframe tbody tr th {\n",
       "        vertical-align: top;\n",
       "    }\n",
       "\n",
       "    .dataframe thead th {\n",
       "        text-align: right;\n",
       "    }\n",
       "</style>\n",
       "<table border=\"1\" class=\"dataframe\">\n",
       "  <thead>\n",
       "    <tr style=\"text-align: right;\">\n",
       "      <th></th>\n",
       "      <th>Id</th>\n",
       "      <th>Name</th>\n",
       "      <th>License_Id</th>\n",
       "      <th>Address_Number</th>\n",
       "      <th>Address_Street_Name</th>\n",
       "      <th>Ssn</th>\n",
       "    </tr>\n",
       "  </thead>\n",
       "  <tbody>\n",
       "    <tr>\n",
       "      <th>2037</th>\n",
       "      <td>28819</td>\n",
       "      <td>Joe Germuska</td>\n",
       "      <td>173289</td>\n",
       "      <td>111</td>\n",
       "      <td>Fisk Rd</td>\n",
       "      <td>138909730</td>\n",
       "    </tr>\n",
       "    <tr>\n",
       "      <th>6327</th>\n",
       "      <td>67318</td>\n",
       "      <td>Jeremy Bowers</td>\n",
       "      <td>423327</td>\n",
       "      <td>530</td>\n",
       "      <td>Washington Pl, Apt 3A</td>\n",
       "      <td>871539279</td>\n",
       "    </tr>\n",
       "  </tbody>\n",
       "</table>\n",
       "</div>"
      ],
      "text/plain": [
       "         Id           Name  License_Id  Address_Number    Address_Street_Name  \\\n",
       "2037  28819   Joe Germuska      173289             111                Fisk Rd   \n",
       "6327  67318  Jeremy Bowers      423327             530  Washington Pl, Apt 3A   \n",
       "\n",
       "            Ssn  \n",
       "2037  138909730  \n",
       "6327  871539279  "
      ]
     },
     "execution_count": 89,
     "metadata": {},
     "output_type": "execute_result"
    }
   ],
   "source": [
    "id_listas = id_sospechosos['Person_Id'].to_list()\n",
    "info_sospechosos = person[person['Id'].isin(id_listas)]\n",
    "info_sospechosos"
   ]
  },
  {
   "cell_type": "code",
   "execution_count": 90,
   "metadata": {},
   "outputs": [
    {
     "data": {
      "text/html": [
       "<div>\n",
       "<style scoped>\n",
       "    .dataframe tbody tr th:only-of-type {\n",
       "        vertical-align: middle;\n",
       "    }\n",
       "\n",
       "    .dataframe tbody tr th {\n",
       "        vertical-align: top;\n",
       "    }\n",
       "\n",
       "    .dataframe thead th {\n",
       "        text-align: right;\n",
       "    }\n",
       "</style>\n",
       "<table border=\"1\" class=\"dataframe\">\n",
       "  <thead>\n",
       "    <tr style=\"text-align: right;\">\n",
       "      <th></th>\n",
       "      <th>Id</th>\n",
       "      <th>Age</th>\n",
       "      <th>Height</th>\n",
       "      <th>Eye_Color</th>\n",
       "      <th>Hair_Color</th>\n",
       "      <th>Gender</th>\n",
       "      <th>Plate_Number</th>\n",
       "      <th>Car_Make</th>\n",
       "      <th>Car_Model</th>\n",
       "    </tr>\n",
       "  </thead>\n",
       "  <tbody>\n",
       "    <tr>\n",
       "      <th>0</th>\n",
       "      <td>103138</td>\n",
       "      <td>37</td>\n",
       "      <td>65</td>\n",
       "      <td>brown</td>\n",
       "      <td>Blonde</td>\n",
       "      <td>Male</td>\n",
       "      <td>T6TV0T</td>\n",
       "      <td>Ford</td>\n",
       "      <td>Focus</td>\n",
       "    </tr>\n",
       "  </tbody>\n",
       "</table>\n",
       "</div>"
      ],
      "text/plain": [
       "       Id  Age  Height Eye_Color Hair_Color Gender Plate_Number Car_Make  \\\n",
       "0  103138   37      65     brown     Blonde   Male       T6TV0T     Ford   \n",
       "\n",
       "  Car_Model  \n",
       "0     Focus  "
      ]
     },
     "execution_count": 90,
     "metadata": {},
     "output_type": "execute_result"
    }
   ],
   "source": [
    "drivers_license.head(1)"
   ]
  },
  {
   "cell_type": "code",
   "execution_count": 92,
   "metadata": {},
   "outputs": [
    {
     "data": {
      "text/html": [
       "<div>\n",
       "<style scoped>\n",
       "    .dataframe tbody tr th:only-of-type {\n",
       "        vertical-align: middle;\n",
       "    }\n",
       "\n",
       "    .dataframe tbody tr th {\n",
       "        vertical-align: top;\n",
       "    }\n",
       "\n",
       "    .dataframe thead th {\n",
       "        text-align: right;\n",
       "    }\n",
       "</style>\n",
       "<table border=\"1\" class=\"dataframe\">\n",
       "  <thead>\n",
       "    <tr style=\"text-align: right;\">\n",
       "      <th></th>\n",
       "      <th>Id</th>\n",
       "      <th>Age</th>\n",
       "      <th>Height</th>\n",
       "      <th>Eye_Color</th>\n",
       "      <th>Hair_Color</th>\n",
       "      <th>Gender</th>\n",
       "      <th>Plate_Number</th>\n",
       "      <th>Car_Make</th>\n",
       "      <th>Car_Model</th>\n",
       "    </tr>\n",
       "  </thead>\n",
       "  <tbody>\n",
       "  </tbody>\n",
       "</table>\n",
       "</div>"
      ],
      "text/plain": [
       "Empty DataFrame\n",
       "Columns: [Id, Age, Height, Eye_Color, Hair_Color, Gender, Plate_Number, Car_Make, Car_Model]\n",
       "Index: []"
      ]
     },
     "execution_count": 92,
     "metadata": {},
     "output_type": "execute_result"
    }
   ],
   "source": [
    "id_licencia = info_sospechosos['License_Id'].to_list()\n",
    "licecia_sospechosos = drivers_license[drivers_license['Id'].isin(info_sospechosos)]\n",
    "licecia_sospechosos"
   ]
  },
  {
   "cell_type": "markdown",
   "metadata": {},
   "source": [
    "### Si crees que encontraste al asesino, ejecutá el siguiente codigo con el posible sospechoso\n",
    "Por favor, tene en cuenta que es recomendable no acceder al archivo \"asesino.py\" para evitar revelar detalles importantes de la caso. Si deseas disfrutar plenamente de la experiencia sin spoilers, te sugiero que evites examinar dicho archivo.\""
   ]
  },
  {
   "cell_type": "code",
   "execution_count": 93,
   "metadata": {},
   "outputs": [
    {
     "name": "stdout",
     "output_type": "stream",
     "text": [
      "¡Felicidades, encontraste al asesino! Pero espera, hay más...\n",
      " Si crees que estas preparado para un desafío, segui investigando \n",
      " la transcripcion del asesino para encontrar al verdadero villano detrás de este crimen\n"
     ]
    }
   ],
   "source": [
    "from asesino import solucion\n",
    "solucion(\"Jeremy Bowers\")"
   ]
  }
 ],
 "metadata": {
  "kernelspec": {
   "display_name": "Python 3",
   "language": "python",
   "name": "python3"
  },
  "language_info": {
   "codemirror_mode": {
    "name": "ipython",
    "version": 3
   },
   "file_extension": ".py",
   "mimetype": "text/x-python",
   "name": "python",
   "nbconvert_exporter": "python",
   "pygments_lexer": "ipython3",
   "version": "3.10.7"
  },
  "orig_nbformat": 4
 },
 "nbformat": 4,
 "nbformat_minor": 2
}
